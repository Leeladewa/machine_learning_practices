{
  "nbformat": 4,
  "nbformat_minor": 0,
  "metadata": {
    "colab": {
      "name": "TensorflowTutorial.ipynb",
      "provenance": [],
      "collapsed_sections": [],
      "toc_visible": true,
      "mount_file_id": "13Ug05y9FOMXjx7HATX0q5CZhNa1fNJfA",
      "authorship_tag": "ABX9TyPfXaAbzYmOPouYHnLZEfFH",
      "include_colab_link": true
    },
    "kernelspec": {
      "name": "python3",
      "display_name": "Python 3"
    }
  },
  "cells": [
    {
      "cell_type": "markdown",
      "metadata": {
        "id": "view-in-github",
        "colab_type": "text"
      },
      "source": [
        "<a href=\"https://colab.research.google.com/github/Leeladewa/machine_learning_practices/blob/master/TensorflowTutorial.ipynb\" target=\"_parent\"><img src=\"https://colab.research.google.com/assets/colab-badge.svg\" alt=\"Open In Colab\"/></a>"
      ]
    },
    {
      "cell_type": "code",
      "metadata": {
        "id": "9Uy2rVrAs6kA",
        "colab_type": "code",
        "colab": {
          "base_uri": "https://localhost:8080/",
          "height": 101
        },
        "outputId": "34ee4161-df6a-47a1-b2df-5b30fbaad164"
      },
      "source": [
        "% tensorflow_version 1x"
      ],
      "execution_count": 1,
      "outputs": [
        {
          "output_type": "stream",
          "text": [
            "`%tensorflow_version` only switches the major version: 1.x or 2.x.\n",
            "You set: `1x`. This will be interpreted as: `1.x`.\n",
            "\n",
            "\n",
            "TensorFlow 1.x selected.\n"
          ],
          "name": "stdout"
        }
      ]
    },
    {
      "cell_type": "code",
      "metadata": {
        "id": "PY1OwzdEsUwE",
        "colab_type": "code",
        "colab": {}
      },
      "source": [
        "import numpy as np \n",
        "import pandas as pd\n",
        "import matplotlib.pyplot as plt\n",
        "from sklearn.model_selection import train_test_split"
      ],
      "execution_count": 2,
      "outputs": []
    },
    {
      "cell_type": "code",
      "metadata": {
        "id": "PaTd41xNtQym",
        "colab_type": "code",
        "colab": {
          "base_uri": "https://localhost:8080/",
          "height": 34
        },
        "outputId": "42cb3d66-19ab-4ab7-da57-075159228135"
      },
      "source": [
        "import tensorflow as tf\n",
        "from tensorflow.python.framework import ops\n",
        "print(tf.__version__)\n",
        "import numpy as np\n",
        "import matplotlib.pyplot as plt\n",
        "%matplotlib inline"
      ],
      "execution_count": 3,
      "outputs": [
        {
          "output_type": "stream",
          "text": [
            "1.15.2\n"
          ],
          "name": "stdout"
        }
      ]
    },
    {
      "cell_type": "code",
      "metadata": {
        "id": "gxGBN-KRtonS",
        "colab_type": "code",
        "colab": {
          "base_uri": "https://localhost:8080/",
          "height": 34
        },
        "outputId": "93359f67-7ba6-45d4-9a91-402aae2ca976"
      },
      "source": [
        "Y_hat = tf.constant(36, name='Y_hat')\n",
        "y = tf.constant(39, name='y')\n",
        "loss = tf.Variable((y-Y_hat)**2, name='loss')\n",
        "init = tf.global_variables_initializer()\n",
        "with tf.Session() as sess:\n",
        "  sess.run(init)\n",
        "  print(sess.run(loss))"
      ],
      "execution_count": 4,
      "outputs": [
        {
          "output_type": "stream",
          "text": [
            "9\n"
          ],
          "name": "stdout"
        }
      ]
    },
    {
      "cell_type": "code",
      "metadata": {
        "id": "SiC-WYVrujZF",
        "colab_type": "code",
        "colab": {
          "base_uri": "https://localhost:8080/",
          "height": 34
        },
        "outputId": "bfe0fcd1-926e-478a-e23b-2d5d8ff6548f"
      },
      "source": [
        "a = tf.constant(2)\n",
        "b = tf.constant(10)\n",
        "c = tf.multiply(a,b)\n",
        "sess = tf.Session()\n",
        "print(sess.run(c))"
      ],
      "execution_count": 5,
      "outputs": [
        {
          "output_type": "stream",
          "text": [
            "20\n"
          ],
          "name": "stdout"
        }
      ]
    },
    {
      "cell_type": "code",
      "metadata": {
        "id": "IbSjWRUFvEzF",
        "colab_type": "code",
        "colab": {
          "base_uri": "https://localhost:8080/",
          "height": 34
        },
        "outputId": "d3afb597-c860-4ed8-c34e-f3d456480053"
      },
      "source": [
        "x = tf.placeholder(tf.int64,shape=None, name='x')\n",
        "print(sess.run(2*x, feed_dict={x:3}))\n",
        "sess.close()"
      ],
      "execution_count": 6,
      "outputs": [
        {
          "output_type": "stream",
          "text": [
            "6\n"
          ],
          "name": "stdout"
        }
      ]
    },
    {
      "cell_type": "code",
      "metadata": {
        "id": "9gG5kz-fv1zF",
        "colab_type": "code",
        "colab": {
          "base_uri": "https://localhost:8080/",
          "height": 101
        },
        "outputId": "d2a8d708-8ef5-4866-d5d8-1cc09b41c581"
      },
      "source": [
        "import numpy as np\n",
        "print(\"successful\")\n",
        "def linear_function():\n",
        "  x = np.random.randn(3,1)\n",
        "  W = np.random.randn(4,3)\n",
        "  b = np.random.randn(4,1)\n",
        "  y = tf.add(tf.matmul(W,x),b)\n",
        "  sess  = tf.Session()\n",
        "  print(sess.run(y))\n",
        "  sess.close()\n",
        "\n",
        "\n",
        "linear_function()"
      ],
      "execution_count": 7,
      "outputs": [
        {
          "output_type": "stream",
          "text": [
            "successful\n",
            "[[-3.83803994]\n",
            " [-3.52527263]\n",
            " [-0.65492787]\n",
            " [-0.48895749]]\n"
          ],
          "name": "stdout"
        }
      ]
    },
    {
      "cell_type": "code",
      "metadata": {
        "id": "4v86xkPaxbxi",
        "colab_type": "code",
        "colab": {
          "base_uri": "https://localhost:8080/",
          "height": 50
        },
        "outputId": "f4cc38dd-ceb2-48ee-9159-074bd475c49f"
      },
      "source": [
        "def sigmoid(z):\n",
        "  x = tf.placeholder(tf.float32, name= 'x')\n",
        "  sigmoid = tf.sigmoid(x)\n",
        "  sess = tf.Session()\n",
        "  result = sess.run(sigmoid, feed_dict = {x:3})\n",
        "  sess.close()\n",
        "  return result\n",
        "print(\"sigmoid(0) = \"+str(sigmoid(0)))\n",
        "print(\"sigmoid(12) = \"+str(sigmoid(12)))\n"
      ],
      "execution_count": 8,
      "outputs": [
        {
          "output_type": "stream",
          "text": [
            "sigmoid(0) = 0.95257413\n",
            "sigmoid(12) = 0.95257413\n"
          ],
          "name": "stdout"
        }
      ]
    },
    {
      "cell_type": "code",
      "metadata": {
        "id": "4ovafDhYzhAA",
        "colab_type": "code",
        "colab": {
          "base_uri": "https://localhost:8080/",
          "height": 104
        },
        "outputId": "557b7891-15cd-4334-d1bc-11fa0eb8423a"
      },
      "source": [
        "def cost(logits, labels):\n",
        "  z = tf.placeholder(tf.float32,name = 'z')\n",
        "  y = tf.placeholder(tf.float32, name = 'y')\n",
        "  cost = tf.nn.sigmoid_cross_entropy_with_logits(logits=z, labels=y)\n",
        "  sess = tf.Session()\n",
        "  cost = sess.run(cost,feed_dict = {z:logits, y:labels})\n",
        "  sess.close()\n",
        "  return cost\n",
        "\n",
        "logits = np.array([0.2,0.4,0.7,0.9])\n",
        "cost = cost(logits, np.array([0,0,1,1]))\n",
        "print(\"cost = \"+str(cost))"
      ],
      "execution_count": 9,
      "outputs": [
        {
          "output_type": "stream",
          "text": [
            "WARNING:tensorflow:From /tensorflow-1.15.2/python3.6/tensorflow_core/python/ops/nn_impl.py:183: where (from tensorflow.python.ops.array_ops) is deprecated and will be removed in a future version.\n",
            "Instructions for updating:\n",
            "Use tf.where in 2.0, which has the same broadcast rule as np.where\n",
            "cost = [0.79813886 0.91301525 0.40318605 0.34115386]\n"
          ],
          "name": "stdout"
        }
      ]
    },
    {
      "cell_type": "code",
      "metadata": {
        "id": "a0nPMoTg5GlG",
        "colab_type": "code",
        "colab": {
          "base_uri": "https://localhost:8080/",
          "height": 134
        },
        "outputId": "f37e6a00-68af-446c-db7b-604c2590ae27"
      },
      "source": [
        "def one_hot_matrix(labels, c):\n",
        "  C = tf.constant(c,name='c')\n",
        "  one_hot = tf.one_hot(labels, depth=C, axis=1) \n",
        "  sess = tf.Session()\n",
        "  one_hot = sess.run(one_hot)\n",
        "  sess.close()\n",
        "  return one_hot\n",
        "\n",
        "labels = np.array([1,2,3,0,2,1])\n",
        "one_hot = one_hot_matrix(labels, c=4) \n",
        "print('one_hot = \\n'+str(one_hot)) "
      ],
      "execution_count": 10,
      "outputs": [
        {
          "output_type": "stream",
          "text": [
            "one_hot = \n",
            "[[0. 1. 0. 0.]\n",
            " [0. 0. 1. 0.]\n",
            " [0. 0. 0. 1.]\n",
            " [1. 0. 0. 0.]\n",
            " [0. 0. 1. 0.]\n",
            " [0. 1. 0. 0.]]\n"
          ],
          "name": "stdout"
        }
      ]
    },
    {
      "cell_type": "code",
      "metadata": {
        "id": "LCEY3XGK6ebm",
        "colab_type": "code",
        "colab": {
          "base_uri": "https://localhost:8080/",
          "height": 50
        },
        "outputId": "4dd17c31-bce6-41e0-fc44-93233a9105a7"
      },
      "source": [
        "def ones(shape):\n",
        "  ones = tf.ones(shape)\n",
        "  sess = tf.Session()\n",
        "  ones = sess.run(ones)\n",
        "  sess.close()\n",
        "  return ones\n",
        "print(\"ones = \\n \"+str(ones([3])))  "
      ],
      "execution_count": 11,
      "outputs": [
        {
          "output_type": "stream",
          "text": [
            "ones = \n",
            " [1. 1. 1.]\n"
          ],
          "name": "stdout"
        }
      ]
    },
    {
      "cell_type": "code",
      "metadata": {
        "id": "Zm3u9x467NQB",
        "colab_type": "code",
        "colab": {
          "base_uri": "https://localhost:8080/",
          "height": 50
        },
        "outputId": "6ee069f3-de33-4635-b7bb-928a12b501d2"
      },
      "source": [
        "def create_placeholder(n_x, n_y):\n",
        "  X = tf.placeholder(tf.float32,shape=[n_x, None])\n",
        "  Y = tf.placeholder(tf.float32,shape=[n_y, None])\n",
        "  return X, Y\n",
        "X, Y = create_placeholder(12288, 6)\n",
        "print(\"X = \"+str(X))\n",
        "print(\"Y = \"+str(Y))  "
      ],
      "execution_count": 12,
      "outputs": [
        {
          "output_type": "stream",
          "text": [
            "X = Tensor(\"Placeholder:0\", shape=(12288, ?), dtype=float32)\n",
            "Y = Tensor(\"Placeholder_1:0\", shape=(6, ?), dtype=float32)\n"
          ],
          "name": "stdout"
        }
      ]
    },
    {
      "cell_type": "code",
      "metadata": {
        "id": "o5YC_kBn8FBj",
        "colab_type": "code",
        "colab": {
          "base_uri": "https://localhost:8080/",
          "height": 168
        },
        "outputId": "89cae814-6446-40a3-95a3-7b68aa4c1158"
      },
      "source": [
        "def initialize_parameters():\n",
        "  W1 = tf.get_variable(\"W1\",[35,784], initializer=tf.contrib.layers.xavier_initializer())\n",
        "  b1 = tf.get_variable(\"b1\",[35,1],initializer=tf.zeros_initializer())\n",
        "  W2 = tf.get_variable(\"W2\",[20,35], initializer=tf.contrib.layers.xavier_initializer())\n",
        "  b2 = tf.get_variable(\"b2\",[20,1],initializer=tf.zeros_initializer())\n",
        "  W3 = tf.get_variable(\"W3\",[10,20], initializer=tf.contrib.layers.xavier_initializer())\n",
        "  b3 = tf.get_variable(\"b3\",[10,1],initializer=tf.zeros_initializer())\n",
        "  parameters = {\"W1\":W1,\n",
        "                \"b1\":b1,\n",
        "                \"W2\":W2,\n",
        "                \"b2\":b2,\n",
        "                \"W3\":W3,\n",
        "                \"b3\":b3}\n",
        "  return parameters\n",
        "tf.reset_default_graph()\n",
        "with tf.Session() as sess:\n",
        "  parameters = initialize_parameters()\n",
        "  print(\"W1 = \" + str(parameters[\"W1\"]))\n"
      ],
      "execution_count": 13,
      "outputs": [
        {
          "output_type": "stream",
          "text": [
            "WARNING:tensorflow:\n",
            "The TensorFlow contrib module will not be included in TensorFlow 2.0.\n",
            "For more information, please see:\n",
            "  * https://github.com/tensorflow/community/blob/master/rfcs/20180907-contrib-sunset.md\n",
            "  * https://github.com/tensorflow/addons\n",
            "  * https://github.com/tensorflow/io (for I/O related ops)\n",
            "If you depend on functionality not listed there, please file an issue.\n",
            "\n",
            "W1 = <tf.Variable 'W1:0' shape=(35, 784) dtype=float32_ref>\n"
          ],
          "name": "stdout"
        }
      ]
    },
    {
      "cell_type": "code",
      "metadata": {
        "id": "xe1dB8Uch5Gl",
        "colab_type": "code",
        "colab": {
          "base_uri": "https://localhost:8080/",
          "height": 34
        },
        "outputId": "7cb826fc-fcb3-4958-a1c3-dde0f77ef568"
      },
      "source": [
        "def forward_propagation(X,parameters):\n",
        "  W1 = parameters['W1']\n",
        "  b1 = parameters['b1']\n",
        "  W2 = parameters['W2']\n",
        "  b2 = parameters['b2']\n",
        "  W3 = parameters['W3']\n",
        "  b3 = parameters['b3']\n",
        "  Z1 = tf.add(tf.matmul(W1,X),b1)\n",
        "  A1 = tf.nn.relu(Z1)\n",
        "  Z2 = tf.add(tf.matmul(W2,A1),b2)\n",
        "  A2 = tf.nn.relu(Z2)\n",
        "  Z3 = tf.add(tf.matmul(W3,A2),b3)\n",
        "  return Z3\n",
        "tf.reset_default_graph()\n",
        "with tf.Session() as sess:\n",
        "  X, Y = create_placeholder(784, 10)\n",
        "  parameters = initialize_parameters()\n",
        "  Z3 = forward_propagation(X,parameters)\n",
        "  print(\"Z3 = \"+str(Z3))"
      ],
      "execution_count": 14,
      "outputs": [
        {
          "output_type": "stream",
          "text": [
            "Z3 = Tensor(\"Add_2:0\", shape=(10, ?), dtype=float32)\n"
          ],
          "name": "stdout"
        }
      ]
    },
    {
      "cell_type": "code",
      "metadata": {
        "id": "k0gMp62_koJ0",
        "colab_type": "code",
        "colab": {
          "base_uri": "https://localhost:8080/",
          "height": 34
        },
        "outputId": "2a5627be-6aea-4d34-ca42-9b36dfc16908"
      },
      "source": [
        "def compute_cost(Z3,Y):\n",
        "  logits = tf.transpose(Z3)\n",
        "  labels = tf.transpose(Y)\n",
        "  cost = tf.reduce_mean(tf.nn.softmax_cross_entropy_with_logits_v2(logits=logits,labels=labels))\n",
        "  return cost\n",
        "\n",
        "tf.reset_default_graph()\n",
        "with tf.Session() as sess:\n",
        "  X,Y = create_placeholder(784, 10)\n",
        "  parameters = initialize_parameters()\n",
        "  Z3 = forward_propagation(X,parameters)\n",
        "  cost = compute_cost(Z3, Y)\n",
        "  print(\"cost = \"+str(cost))"
      ],
      "execution_count": 15,
      "outputs": [
        {
          "output_type": "stream",
          "text": [
            "cost = Tensor(\"Mean:0\", shape=(), dtype=float32)\n"
          ],
          "name": "stdout"
        }
      ]
    },
    {
      "cell_type": "code",
      "metadata": {
        "id": "iGBFFMpbuvi3",
        "colab_type": "code",
        "colab": {
          "base_uri": "https://localhost:8080/",
          "height": 50
        },
        "outputId": "409f181b-8e3b-4fc0-df21-9c321b0ed923"
      },
      "source": [
        "data = '/content/drive/My Drive/Text_file.txt/mnist_test.csv'\n",
        "df  = pd.read_csv(data)\n",
        "X_train = np.array(df.drop(['label'],axis=1))\n",
        "\n",
        "print(np.shape(X_train))\n",
        "Y_train = np.array(df['label'])\n",
        "print(np.shape(Y_train))\n",
        "\n",
        "\n",
        "Y_train = one_hot_matrix(Y_train,10)\n",
        "\n",
        "\n",
        "[X_train, X_test, Y_train, Y_test] = train_test_split(X_train,Y_train,test_size = 0.1, random_state = 0)\n",
        "X_train = X_train.T\n",
        "Y_train = Y_train.T\n",
        "X_test = X_test.T\n",
        "Y_test = Y_test.T"
      ],
      "execution_count": 16,
      "outputs": [
        {
          "output_type": "stream",
          "text": [
            "(10000, 784)\n",
            "(10000,)\n"
          ],
          "name": "stdout"
        }
      ]
    },
    {
      "cell_type": "code",
      "metadata": {
        "id": "LxN73NglBhrU",
        "colab_type": "code",
        "colab": {
          "base_uri": "https://localhost:8080/",
          "height": 134
        },
        "outputId": "e1b556fe-706a-402a-b98b-8390df40f27e"
      },
      "source": [
        "# GRADED FUNCTION: random_mini_batches\n",
        "\n",
        "def random_mini_batches(X, Y, mini_batch_size = 64, seed = 0):\n",
        "    m = X.shape[1]                  # number of training examples\n",
        "    mini_batches = []\n",
        "    import math    \n",
        "    # Step 1: Shuffle (X, Y)\n",
        "    permutation = list(np.random.permutation(m))\n",
        "    shuffled_X = X[:, permutation]\n",
        "    shuffled_Y = Y[:, permutation].reshape((10,m))\n",
        "    \n",
        "\n",
        "    # Step 2: Partition (shuffled_X, shuffled_Y). Minus the end case.\n",
        "    num_complete_minibatches = math.floor(m/mini_batch_size) # number of mini batches of size mini_batch_size in your partitionning\n",
        "    for k in range(0, num_complete_minibatches):\n",
        "        \n",
        "        mini_batch_X = shuffled_X[:,mini_batch_size*k:mini_batch_size*(k+1)]\n",
        "        mini_batch_Y = shuffled_Y[:,mini_batch_size*k:mini_batch_size*(k+1)]\n",
        "      \n",
        "        mini_batch = (mini_batch_X, mini_batch_Y)\n",
        "        mini_batches.append(mini_batch)\n",
        "    \n",
        "    \n",
        "    if m % mini_batch_size != 0:\n",
        "        \n",
        "        mini_batch_X = shuffled_X[:,0:m-mini_batch_size*num_complete_minibatches]\n",
        "        mini_batch_Y = shuffled_Y[:,0:m-mini_batch_size*num_complete_minibatches]\n",
        "        mini_batch = (mini_batch_X, mini_batch_Y)\n",
        "        mini_batches.append(mini_batch)\n",
        "    \n",
        "    return mini_batches\n",
        "\n",
        "mini_batches = random_mini_batches(X_train, Y_train, 64)\n",
        "print (\"shape of the 1st mini_batch_X: \" + str(mini_batches[0][0].shape))\n",
        "print (\"shape of the 2nd mini_batch_X: \" + str(mini_batches[1][0].shape))\n",
        "print (\"shape of the 3rd mini_batch_X: \" + str(mini_batches[2][0].shape))\n",
        "print (\"shape of the 1st mini_batch_Y: \" + str(mini_batches[0][1].shape))\n",
        "print (\"shape of the 2nd mini_batch_Y: \" + str(mini_batches[1][1].shape)) \n",
        "print (\"shape of the 3rd mini_batch_Y: \" + str(mini_batches[2][1].shape))\n",
        "print (\"mini batch sanity check: \" + str(mini_batches[0][0][0][0:3]))    "
      ],
      "execution_count": 17,
      "outputs": [
        {
          "output_type": "stream",
          "text": [
            "shape of the 1st mini_batch_X: (784, 64)\n",
            "shape of the 2nd mini_batch_X: (784, 64)\n",
            "shape of the 3rd mini_batch_X: (784, 64)\n",
            "shape of the 1st mini_batch_Y: (10, 64)\n",
            "shape of the 2nd mini_batch_Y: (10, 64)\n",
            "shape of the 3rd mini_batch_Y: (10, 64)\n",
            "mini batch sanity check: [0 0 0]\n"
          ],
          "name": "stdout"
        }
      ]
    },
    {
      "cell_type": "code",
      "metadata": {
        "id": "jG0-GwlumSNV",
        "colab_type": "code",
        "colab": {}
      },
      "source": [
        "def model(X_train, Y_train, X_test, Y_test, learning_rate=0.0001,num_epochs=1500,minibatch_size=32,print_cost=True):\n",
        "  ops.reset_default_graph()\n",
        "  (n_x, m)=X_train.shape\n",
        "  n_y = Y_train.shape[0]\n",
        "  costs = []\n",
        "  X, Y = create_placeholder(n_x, n_y)\n",
        "  print(X)\n",
        "  print(Y)\n",
        "  parameters = initialize_parameters()\n",
        "  Z3 = forward_propagation(X, parameters)\n",
        "  cost = compute_cost(Z3, Y)\n",
        "  optimizer = tf.train.AdamOptimizer(learning_rate=learning_rate).minimize(cost)\n",
        "  init = tf.global_variables_initializer()\n",
        "  with tf.Session() as sess:\n",
        "    sess.run(init)\n",
        "    for epoch in range(num_epochs):\n",
        "      epoch_cost = 0\n",
        "      num_minibatches = int(m/minibatch_size)\n",
        "      minibatches = random_mini_batches(X_train, Y_train,64)\n",
        "      for minibatch in minibatches:\n",
        "        (minibatch_X ,minibatch_Y) = minibatch\n",
        "        _, minibatch_cost = sess.run([optimizer,cost],feed_dict={X:minibatch_X, Y:minibatch_Y})\n",
        "        epoch_cost += minibatch_cost/minibatch_size\n",
        "\n",
        "    if print_cost == True and epoch % 100 ==0:\n",
        "      print('cost after epoch % i : %f' %(epoch,epoch_cost)) \n",
        "    if print_cost == True and epoch % 5==0:\n",
        "      costs.append(epoch_cost)\n",
        "\n",
        "    plt.plot(np.squeeze(costs))\n",
        "    plt.ylabel('cost')\n",
        "    plt.xlabel('iteration(per fives)')\n",
        "    plt.title(\"learning_rate = \"+str(learning_rate))\n",
        "    plt.show()\n",
        "\n",
        "    parameters = sess.run(parameters)\n",
        "    print(\"parameters have been Trained !!!!!\")\n",
        "    correct_prediction = tf.equal(tf.argmax(Z3),tf.argmax(Y)) \n",
        "    accuracy = tf.reduce_mean(tf.cast(correct_prediction, \"float\"))\n",
        "    print(\"Train Accuracy : \",accuracy.eval({X:X_train, Y:Y_train}))\n",
        "    print(\"Test Accuracy : \", accuracy.eval({X:X_test,Y:Y_test}))\n",
        "    return parameters    \n",
        "\n",
        "     "
      ],
      "execution_count": 22,
      "outputs": []
    },
    {
      "cell_type": "code",
      "metadata": {
        "id": "tCGHENUYi7eT",
        "colab_type": "code",
        "colab": {
          "base_uri": "https://localhost:8080/",
          "height": 379
        },
        "outputId": "fe310e0b-c795-43d1-ac60-5ee84452cb56"
      },
      "source": [
        "parameter = model(X_train, Y_train, X_test,Y_test)"
      ],
      "execution_count": 23,
      "outputs": [
        {
          "output_type": "stream",
          "text": [
            "Tensor(\"Placeholder:0\", shape=(784, ?), dtype=float32)\n",
            "Tensor(\"Placeholder_1:0\", shape=(10, ?), dtype=float32)\n"
          ],
          "name": "stdout"
        },
        {
          "output_type": "display_data",
          "data": {
            "image/png": "[encoded data removed]",
            "text/plain": [
              "<Figure size 432x288 with 1 Axes>"
            ]
          },
          "metadata": {
            "tags": [],
            "needs_background": "light"
          }
        },
        {
          "output_type": "stream",
          "text": [
            "parameters have been Trained !!!!!\n",
            "Train Accuracy :  1.0\n",
            "Test Accuracy :  0.92\n"
          ],
          "name": "stdout"
        }
      ]
    }
  ]
}